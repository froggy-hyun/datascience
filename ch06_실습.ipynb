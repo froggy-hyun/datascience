{
 "cells": [
  {
   "cell_type": "markdown",
   "metadata": {},
   "source": [
    "# ch06 (1)"
   ]
  },
  {
   "cell_type": "markdown",
   "metadata": {},
   "source": [
    "top100-kdrama.csv 파일을 DF로 읽어, nan값이 들어 있는 컬럼을 모두 제거한 DataFrame을 만들고 출력하라."
   ]
  },
  {
   "cell_type": "code",
   "execution_count": 1,
   "metadata": {},
   "outputs": [],
   "source": [
    "import pandas as pd"
   ]
  },
  {
   "cell_type": "code",
   "execution_count": 10,
   "metadata": {},
   "outputs": [],
   "source": [
    "df = pd.read_csv(\"실습데이터/ch06/top100_kdrama.csv\")"
   ]
  },
  {
   "cell_type": "code",
   "execution_count": 11,
   "metadata": {},
   "outputs": [
    {
     "name": "stdout",
     "output_type": "stream",
     "text": [
      "                             Name  Year of release  \\\n",
      "0                  Move to Heaven             2021   \n",
      "1               Hospital Playlist             2020   \n",
      "2                  Flower of Evil             2020   \n",
      "3             Hospital Playlist 2             2021   \n",
      "4                       My Mister             2018   \n",
      "..                            ...              ...   \n",
      "95                       Vagabond             2019   \n",
      "96                    Doctor John             2019   \n",
      "97       When the Camellia Blooms             2019   \n",
      "98  Because This Is My First Life             2017   \n",
      "99               Fight For My Way             2017   \n",
      "\n",
      "                     Aired Date              Aired On  Number of Episode  \\\n",
      "0                     14-May-21                Friday                 10   \n",
      "1   Mar 12, 2020 - May 28, 2020              Thursday                 12   \n",
      "2   Jul 29, 2020 - Sep 23, 2020   Wednesday, Thursday                 16   \n",
      "3   Jun 17, 2021 - Sep 16, 2021              Thursday                 12   \n",
      "4   Mar 21, 2018 - May 17, 2018   Wednesday, Thursday                 16   \n",
      "..                          ...                   ...                ...   \n",
      "95  Sep 20, 2019 - Nov 23, 2019      Friday, Saturday                 16   \n",
      "96  Jul 19, 2019 - Sep  7, 2019      Friday, Saturday                 32   \n",
      "97  Sep 18, 2019 - Nov 21, 2019   Wednesday, Thursday                 40   \n",
      "98  Oct  9, 2017 - Nov 28, 2017       Monday, Tuesday                 16   \n",
      "99  May 22, 2017 - Jul 11, 2017       Monday, Tuesday                 16   \n",
      "\n",
      "            Network       Duration                          Content Rating  \\\n",
      "0          Netflix         52 min.  18+ Restricted (violence & profanity)    \n",
      "1    Netflix,  tvN   1 hr. 30 min.                15+ - Teens 15 or older    \n",
      "2              tvN   1 hr. 10 min.                15+ - Teens 15 or older    \n",
      "3    Netflix,  tvN   1 hr. 40 min.                15+ - Teens 15 or older    \n",
      "4              tvN   1 hr. 17 min.                15+ - Teens 15 or older    \n",
      "..              ...            ...                                     ...   \n",
      "95   Netflix,  SBS   1 hr. 10 min.                15+ - Teens 15 or older    \n",
      "96             SBS         35 min.                15+ - Teens 15 or older    \n",
      "97  KBS2,  Netflix         35 min.                15+ - Teens 15 or older    \n",
      "98             tvN   1 hr. 10 min.                15+ - Teens 15 or older    \n",
      "99            KBS2         60 min.                15+ - Teens 15 or older    \n",
      "\n",
      "                                             Synopsis  \\\n",
      "0   Geu Roo is a young autistic man. He works for ...   \n",
      "1   The stories of people going through their days...   \n",
      "2   Although Baek Hee Sung is hiding a dark secret...   \n",
      "3   Everyday is extraordinary for five doctors and...   \n",
      "4   Park Dong Hoon is a middle-aged engineer who i...   \n",
      "..                                                ...   \n",
      "95  Cha Dal Gun becomes an awakened tiger in the f...   \n",
      "96  ?쏡octor John??is a medical drama about doctors...   \n",
      "97  Dong Baek is a single mother living in the sma...   \n",
      "98  A house-poor man and homeless woman become hou...   \n",
      "99  Can you still go after your dreams without the...   \n",
      "\n",
      "                                                 Cast  \\\n",
      "0   Lee Je Hoon, Tang Jun Sang, Hong Seung Hee, Ju...   \n",
      "1   Jo Jung Suk, Yoo Yeon Seok, Jung Kyung Ho, Kim...   \n",
      "2   Lee Joon Gi, Moon Chae Won, Jang Hee Jin, Seo ...   \n",
      "3   Jo Jung Suk, Yoo Yeon Seok, Jung Kyung Ho, Kim...   \n",
      "4   Lee Sun Kyun, IU, Park Ho San, Song Sae Byuk, ...   \n",
      "..                                                ...   \n",
      "95  Lee Seung Gi, Bae Suzy, Shin Sung Rok, Baek  Y...   \n",
      "96  Ji Sung, Lee Se Young, Lee Kyu Hyung, Hwang He...   \n",
      "97  Gong Hyo Jin, Kang Ha Neul, Kim Ji Suk, Son Da...   \n",
      "98  Jung So Min, Lee Min Ki, Esom, Park Byung Eun,...   \n",
      "99  Park Seo Joon, Kim Ji Won, Ahn Jae Hong, Song ...   \n",
      "\n",
      "                                            Genre  \\\n",
      "0                          Life,  Drama,  Family    \n",
      "1          Friendship,  Romance,  Life,  Medical    \n",
      "2         Thriller,  Romance,  Crime,  Melodrama    \n",
      "3          Friendship,  Romance,  Life,  Medical    \n",
      "4          Psychological,  Life,  Drama,  Family    \n",
      "..                                            ...   \n",
      "95           Action,  Thriller,  Mystery,  Crime    \n",
      "96            Mystery,  Romance,  Life,  Medical    \n",
      "97  Thriller,  Comedy,  Romance,  Drama,  Family    \n",
      "98               Comedy,  Romance,  Life,  Drama    \n",
      "99          Business,  Comedy,  Romance,  Sports    \n",
      "\n",
      "                                                 Tags  Rank Rating  \n",
      "0   Autism, Uncle-Nephew Relationship, Death, Sava...    #1    9.2  \n",
      "1   Strong Friendship, Multiple Mains, Best Friend...    #2    9.1  \n",
      "2   Married Couple, Deception, Suspense, Family Se...    #3    9.1  \n",
      "3   Workplace, Strong Friendship, Best Friends, Mu...    #4    9.1  \n",
      "4   Age Gap, Nice Male Lead, Strong Female Lead, H...    #5    9.1  \n",
      "..                                                ...   ...    ...  \n",
      "95  Plane Crash, Revenge, National Intelligence Se...   #96    8.5  \n",
      "96  Smart Male Lead, Incurable Disease, Eccentric ...   #97    8.5  \n",
      "97  Single Mother, Mystery, Motherhood, Serial Kil...   #98    8.5  \n",
      "98  Contract Relationship, Marriage Of Convenience...   #99    8.5  \n",
      "99  Childhood Friends, Friends To Lovers, Strong M...  #100    8.5  \n",
      "\n",
      "[100 rows x 14 columns]\n"
     ]
    }
   ],
   "source": [
    "df_cleaned = df.dropna(axis=1)\n",
    "print(df_cleaned)"
   ]
  },
  {
   "cell_type": "markdown",
   "metadata": {},
   "source": [
    "# ch06 (2) transform"
   ]
  },
  {
   "cell_type": "markdown",
   "metadata": {},
   "source": [
    "top100-kdrama.csv 파일을 DF로 읽어 출시연도별 Rating 평균값으로  Rating2  컬럼을 추가하고, 출시연도, 이름,  Rating, Rating2 컬럼을 출력하라."
   ]
  },
  {
   "cell_type": "code",
   "execution_count": 1,
   "metadata": {},
   "outputs": [],
   "source": [
    "import pandas as pd"
   ]
  },
  {
   "cell_type": "code",
   "execution_count": 2,
   "metadata": {},
   "outputs": [],
   "source": [
    "df = pd.read_csv(\"실습데이터/ch06/top100_kdrama.csv\")"
   ]
  },
  {
   "cell_type": "code",
   "execution_count": 9,
   "metadata": {},
   "outputs": [
    {
     "name": "stdout",
     "output_type": "stream",
     "text": [
      "    Year of release                           Name  Rating   Rating2\n",
      "0              2021                 Move to Heaven     9.2  8.810526\n",
      "1              2020              Hospital Playlist     9.1  8.756250\n",
      "2              2020                 Flower of Evil     9.1  8.756250\n",
      "3              2021            Hospital Playlist 2     9.1  8.810526\n",
      "4              2018                      My Mister     9.1  8.790000\n",
      "..              ...                            ...     ...       ...\n",
      "95             2019                       Vagabond     8.5  8.646667\n",
      "96             2019                    Doctor John     8.5  8.646667\n",
      "97             2019       When the Camellia Blooms     8.5  8.646667\n",
      "98             2017  Because This Is My First Life     8.5  8.662500\n",
      "99             2017               Fight For My Way     8.5  8.662500\n",
      "\n",
      "[100 rows x 4 columns]\n"
     ]
    }
   ],
   "source": [
    "df['Rating'] = pd.to_numeric(df['Rating'])\n",
    "\n",
    "rating_by_year = df.groupby('Year of release')['Rating'].mean()\n",
    "\n",
    "df['Rating2'] = df['Year of release'].map(rating_by_year)\n",
    "\n",
    "result = df[['Year of release', 'Name', 'Rating', 'Rating2']]\n",
    "print(result)"
   ]
  },
  {
   "cell_type": "markdown",
   "metadata": {},
   "source": [
    "# ch06 (3) category, cut"
   ]
  },
  {
   "cell_type": "code",
   "execution_count": 1,
   "metadata": {},
   "outputs": [],
   "source": [
    "import pandas as pd"
   ]
  },
  {
   "cell_type": "code",
   "execution_count": 5,
   "metadata": {},
   "outputs": [
    {
     "name": "stdout",
     "output_type": "stream",
     "text": [
      "    Name  Record Grade\n",
      "0   Hong      88     B\n",
      "1    Kim      92     A\n",
      "2    Lee      96     A\n",
      "3   Park      70     D\n",
      "4   Choi      82     B\n",
      "5  James      55     F\n"
     ]
    }
   ],
   "source": [
    "data = {\n",
    "    'Name': ['Hong', 'Kim', 'Lee', 'Park', 'Choi', 'James'],\n",
    "    'Record': [88, 92, 96, 70, 82, 55]\n",
    "}\n",
    "df = pd.DataFrame(data)\n",
    "\n",
    "bins = [0, 60, 70, 80, 90, 100]\n",
    "labels = ['F', 'D', 'C', 'B', 'A']\n",
    "\n",
    "\n",
    "df['Grade'] = pd.cut(df['Record'], bins=bins, labels=labels, right=True)\n",
    "\n",
    "\n",
    "df['Grade'] = df['Grade'].astype('category')\n",
    "\n",
    "print(df)"
   ]
  },
  {
   "cell_type": "markdown",
   "metadata": {},
   "source": [
    "# 4/15 실습"
   ]
  },
  {
   "cell_type": "code",
   "execution_count": 24,
   "metadata": {},
   "outputs": [
    {
     "data": {
      "text/html": [
       "<div>\n",
       "<style scoped>\n",
       "    .dataframe tbody tr th:only-of-type {\n",
       "        vertical-align: middle;\n",
       "    }\n",
       "\n",
       "    .dataframe tbody tr th {\n",
       "        vertical-align: top;\n",
       "    }\n",
       "\n",
       "    .dataframe thead th {\n",
       "        text-align: right;\n",
       "    }\n",
       "</style>\n",
       "<table border=\"1\" class=\"dataframe\">\n",
       "  <thead>\n",
       "    <tr style=\"text-align: right;\">\n",
       "      <th></th>\n",
       "      <th>PassengerId</th>\n",
       "      <th>Survived</th>\n",
       "      <th>Pclass</th>\n",
       "      <th>Name</th>\n",
       "      <th>Sex</th>\n",
       "      <th>Age</th>\n",
       "      <th>SibSp</th>\n",
       "      <th>Parch</th>\n",
       "      <th>Ticket</th>\n",
       "      <th>Fare</th>\n",
       "      <th>Cabin</th>\n",
       "      <th>Embarked</th>\n",
       "    </tr>\n",
       "  </thead>\n",
       "  <tbody>\n",
       "    <tr>\n",
       "      <th>0</th>\n",
       "      <td>1</td>\n",
       "      <td>0.0</td>\n",
       "      <td>3</td>\n",
       "      <td>Braund, Mr. Owen Harris</td>\n",
       "      <td>male</td>\n",
       "      <td>22.0</td>\n",
       "      <td>1</td>\n",
       "      <td>0</td>\n",
       "      <td>A/5 21171</td>\n",
       "      <td>7.2500</td>\n",
       "      <td>NaN</td>\n",
       "      <td>S</td>\n",
       "    </tr>\n",
       "    <tr>\n",
       "      <th>1</th>\n",
       "      <td>2</td>\n",
       "      <td>1.0</td>\n",
       "      <td>1</td>\n",
       "      <td>Cumings, Mrs. John Bradley (Florence Briggs Th...</td>\n",
       "      <td>female</td>\n",
       "      <td>38.0</td>\n",
       "      <td>1</td>\n",
       "      <td>0</td>\n",
       "      <td>PC 17599</td>\n",
       "      <td>71.2833</td>\n",
       "      <td>C85</td>\n",
       "      <td>C</td>\n",
       "    </tr>\n",
       "    <tr>\n",
       "      <th>2</th>\n",
       "      <td>3</td>\n",
       "      <td>1.0</td>\n",
       "      <td>3</td>\n",
       "      <td>Heikkinen, Miss. Laina</td>\n",
       "      <td>female</td>\n",
       "      <td>26.0</td>\n",
       "      <td>0</td>\n",
       "      <td>0</td>\n",
       "      <td>STON/O2. 3101282</td>\n",
       "      <td>7.9250</td>\n",
       "      <td>NaN</td>\n",
       "      <td>S</td>\n",
       "    </tr>\n",
       "    <tr>\n",
       "      <th>3</th>\n",
       "      <td>4</td>\n",
       "      <td>1.0</td>\n",
       "      <td>1</td>\n",
       "      <td>Futrelle, Mrs. Jacques Heath (Lily May Peel)</td>\n",
       "      <td>female</td>\n",
       "      <td>35.0</td>\n",
       "      <td>1</td>\n",
       "      <td>0</td>\n",
       "      <td>113803</td>\n",
       "      <td>53.1000</td>\n",
       "      <td>C123</td>\n",
       "      <td>S</td>\n",
       "    </tr>\n",
       "    <tr>\n",
       "      <th>4</th>\n",
       "      <td>5</td>\n",
       "      <td>0.0</td>\n",
       "      <td>3</td>\n",
       "      <td>Allen, Mr. William Henry</td>\n",
       "      <td>male</td>\n",
       "      <td>35.0</td>\n",
       "      <td>0</td>\n",
       "      <td>0</td>\n",
       "      <td>373450</td>\n",
       "      <td>8.0500</td>\n",
       "      <td>NaN</td>\n",
       "      <td>S</td>\n",
       "    </tr>\n",
       "  </tbody>\n",
       "</table>\n",
       "</div>"
      ],
      "text/plain": [
       "   PassengerId  Survived  Pclass  \\\n",
       "0            1       0.0       3   \n",
       "1            2       1.0       1   \n",
       "2            3       1.0       3   \n",
       "3            4       1.0       1   \n",
       "4            5       0.0       3   \n",
       "\n",
       "                                                Name     Sex   Age  SibSp  \\\n",
       "0                            Braund, Mr. Owen Harris    male  22.0      1   \n",
       "1  Cumings, Mrs. John Bradley (Florence Briggs Th...  female  38.0      1   \n",
       "2                             Heikkinen, Miss. Laina  female  26.0      0   \n",
       "3       Futrelle, Mrs. Jacques Heath (Lily May Peel)  female  35.0      1   \n",
       "4                           Allen, Mr. William Henry    male  35.0      0   \n",
       "\n",
       "   Parch            Ticket     Fare Cabin Embarked  \n",
       "0      0         A/5 21171   7.2500   NaN        S  \n",
       "1      0          PC 17599  71.2833   C85        C  \n",
       "2      0  STON/O2. 3101282   7.9250   NaN        S  \n",
       "3      0            113803  53.1000  C123        S  \n",
       "4      0            373450   8.0500   NaN        S  "
      ]
     },
     "execution_count": 24,
     "metadata": {},
     "output_type": "execute_result"
    }
   ],
   "source": [
    "import pandas as pd\n",
    "import os\n",
    "import matplotlib.pyplot as plt\n",
    "import numpy as np\n",
    "\n",
    "import seaborn as sns\n",
    "sns.set(style=\"whitegrid\", color_codes=True)\n",
    "\n",
    "DATA_DIR = '실습데이터/ch06/타이타닉'\n",
    "os.listdir(DATA_DIR)\n",
    "\n",
    "data_files = sorted([os.path.join(DATA_DIR, filename)\n",
    "for filename in os.listdir(DATA_DIR)], reverse=True)\n",
    "\n",
    "df_list = []\n",
    "for filename in data_files:\n",
    "    df_list.append(pd.read_csv(filename))\n",
    "    \n",
    "# (2) 두 개의 데이터프레임을 하나로 통합\n",
    "df = pd.concat(df_list, sort=False)\n",
    "\n",
    "# (3) 인덱스 초기화\n",
    "df = df.reset_index(drop=True)\n",
    "\n",
    "# (4) 결과 출력\n",
    "df.head(5)"
   ]
  },
  {
   "cell_type": "code",
   "execution_count": 25,
   "metadata": {},
   "outputs": [
    {
     "data": {
      "text/plain": [
       "PassengerId    0.000000\n",
       "Survived       0.319328\n",
       "Pclass         0.000000\n",
       "Name           0.000000\n",
       "Sex            0.000000\n",
       "Age            0.200917\n",
       "SibSp          0.000000\n",
       "Parch          0.000000\n",
       "Ticket         0.000000\n",
       "Fare           0.000764\n",
       "Cabin          0.774637\n",
       "Embarked       0.001528\n",
       "dtype: float64"
      ]
     },
     "execution_count": 25,
     "metadata": {},
     "output_type": "execute_result"
    }
   ],
   "source": [
    "df.isna().sum()/len(df)"
   ]
  },
  {
   "cell_type": "code",
   "execution_count": 26,
   "metadata": {},
   "outputs": [
    {
     "data": {
      "text/plain": [
       "Sex\n",
       "female    28.687088\n",
       "male      30.585228\n",
       "Name: Age, dtype: float64"
      ]
     },
     "execution_count": 26,
     "metadata": {},
     "output_type": "execute_result"
    }
   ],
   "source": [
    "df[df['Age'].notna()].groupby(\"Sex\")['Age'].mean()"
   ]
  },
  {
   "cell_type": "code",
   "execution_count": 27,
   "metadata": {},
   "outputs": [
    {
     "data": {
      "text/plain": [
       "0       30.585228\n",
       "1       28.687088\n",
       "2       28.687088\n",
       "3       28.687088\n",
       "4       30.585228\n",
       "          ...    \n",
       "1304    30.585228\n",
       "1305    28.687088\n",
       "1306    30.585228\n",
       "1307    30.585228\n",
       "1308    30.585228\n",
       "Name: Age, Length: 1309, dtype: float64"
      ]
     },
     "execution_count": 27,
     "metadata": {},
     "output_type": "execute_result"
    }
   ],
   "source": [
    "df.groupby(\"Sex\")['Age'].transform(\"mean\")"
   ]
  },
  {
   "cell_type": "markdown",
   "metadata": {},
   "source": [
    "# ch06 (3)"
   ]
  },
  {
   "cell_type": "markdown",
   "metadata": {},
   "source": [
    "타이타닉 데이터에서  Age 값이  null 인 것을 SibSp 수별로 그룹화하여 구한 age 의 평균값으로 대체해서 df2를 만들고, df2 전체의 age 의 평균을 출력하라. "
   ]
  },
  {
   "cell_type": "code",
   "execution_count": 28,
   "metadata": {},
   "outputs": [
    {
     "name": "stdout",
     "output_type": "stream",
     "text": [
      "전체 평균 나이: 29.915573212828594\n"
     ]
    }
   ],
   "source": [
    "age_means_by_sibsp = df.groupby('SibSp')['Age'].mean()\n",
    "\n",
    "df2 = df.copy()\n",
    "df2['Age'] = df2['Age'].fillna(df2.groupby('SibSp')['Age'].transform('mean'))\n",
    "\n",
    "print(\"전체 평균 나이:\", df2['Age'].mean())"
   ]
  }
 ],
 "metadata": {
  "kernelspec": {
   "display_name": "datascience",
   "language": "python",
   "name": "python3"
  },
  "language_info": {
   "codemirror_mode": {
    "name": "ipython",
    "version": 3
   },
   "file_extension": ".py",
   "mimetype": "text/x-python",
   "name": "python",
   "nbconvert_exporter": "python",
   "pygments_lexer": "ipython3",
   "version": "3.9.21"
  }
 },
 "nbformat": 4,
 "nbformat_minor": 2
}
