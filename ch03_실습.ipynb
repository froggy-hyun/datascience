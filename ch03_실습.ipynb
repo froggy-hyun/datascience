{
 "cells": [
  {
   "cell_type": "markdown",
   "metadata": {},
   "source": [
    "# ch03 numpy (1)"
   ]
  },
  {
   "cell_type": "markdown",
   "metadata": {},
   "source": [
    "1. 0~19 의 정수를 만들고,이것을 (2 x 5 x 2) 3차원 배열을 만들고 출력하시오.\n",
    "2. 1번에서 만든것을 4  x5 배열로 만들고 출력하시오. \n",
    "3. 1번에서 만든것을 1차원 배열로 만들고 출력하시오. "
   ]
  },
  {
   "cell_type": "code",
   "execution_count": 1,
   "metadata": {},
   "outputs": [],
   "source": [
    "import numpy as np"
   ]
  },
  {
   "cell_type": "code",
   "execution_count": 5,
   "metadata": {},
   "outputs": [
    {
     "name": "stdout",
     "output_type": "stream",
     "text": [
      "[[[ 0  1]\n",
      "  [ 2  3]\n",
      "  [ 4  5]\n",
      "  [ 6  7]\n",
      "  [ 8  9]]\n",
      "\n",
      " [[10 11]\n",
      "  [12 13]\n",
      "  [14 15]\n",
      "  [16 17]\n",
      "  [18 19]]]\n"
     ]
    }
   ],
   "source": [
    "# 1. 0~19까지의 정수를 생성하고 (2x5x2) 3차원 배열로 변환\n",
    "arr = np.arange(20).reshape(2, 5, 2)\n",
    "print(arr)"
   ]
  },
  {
   "cell_type": "code",
   "execution_count": 6,
   "metadata": {},
   "outputs": [
    {
     "name": "stdout",
     "output_type": "stream",
     "text": [
      "[[ 0  1  2  3  4]\n",
      " [ 5  6  7  8  9]\n",
      " [10 11 12 13 14]\n",
      " [15 16 17 18 19]]\n"
     ]
    }
   ],
   "source": [
    "# 2. 3차원 배열을 (4x5) 2차원 배열로 변환\n",
    "arr_2d = arr.reshape(4, 5)\n",
    "print(arr_2d)"
   ]
  },
  {
   "cell_type": "code",
   "execution_count": 7,
   "metadata": {},
   "outputs": [
    {
     "name": "stdout",
     "output_type": "stream",
     "text": [
      "[ 0  1  2  3  4  5  6  7  8  9 10 11 12 13 14 15 16 17 18 19]\n"
     ]
    }
   ],
   "source": [
    "# 3. 3차원 배열을 1차원 배열로 변환\n",
    "arr_1d = arr.flatten()\n",
    "print(arr_1d)"
   ]
  },
  {
   "cell_type": "markdown",
   "metadata": {},
   "source": [
    "# ch03 numpy (2)"
   ]
  },
  {
   "cell_type": "markdown",
   "metadata": {},
   "source": [
    "1. 공정한 주사위를 만들어 10번 던질때의 각 번호의 출현회수를 출력하라.\n",
    "2. 공정한 주사위를 만들어 1000번 던질때의 각 번호의 출현회수를 출력하라.\n",
    "단, 균등분포(uniform) 를 이용하여 하라. "
   ]
  },
  {
   "cell_type": "code",
   "execution_count": 18,
   "metadata": {},
   "outputs": [],
   "source": [
    "import numpy as np"
   ]
  },
  {
   "cell_type": "code",
   "execution_count": 19,
   "metadata": {},
   "outputs": [],
   "source": [
    "import numpy as np\n",
    "\n",
    "def roll_dice(n):\n",
    "    rolls = np.random.uniform(1, 7, n).astype(int)  # 1~6 사이의 난수 생성\n",
    "    result = {}  # 빈 딕셔너리 생성\n",
    "\n",
    "    # 출현 횟수 계산\n",
    "    for num in rolls:\n",
    "        if num in result:\n",
    "            result[num] += 1\n",
    "        else:\n",
    "            result[num] = 1\n",
    "\n",
    "    return result"
   ]
  },
  {
   "cell_type": "code",
   "execution_count": 20,
   "metadata": {},
   "outputs": [
    {
     "name": "stdout",
     "output_type": "stream",
     "text": [
      "10번 던진 결과: {np.int64(6): 1, np.int64(2): 2, np.int64(1): 2, np.int64(4): 3, np.int64(3): 1, np.int64(5): 1}\n"
     ]
    }
   ],
   "source": [
    "# 1. 10번 던지기\n",
    "print(\"10번 던진 결과:\", roll_dice(10))"
   ]
  },
  {
   "cell_type": "code",
   "execution_count": 21,
   "metadata": {},
   "outputs": [
    {
     "name": "stdout",
     "output_type": "stream",
     "text": [
      "1000번 던진 결과: {np.int64(1): 182, np.int64(3): 145, np.int64(4): 166, np.int64(6): 169, np.int64(2): 166, np.int64(5): 172}\n"
     ]
    }
   ],
   "source": [
    "# 2. 1000번 던지기\n",
    "print(\"1000번 던진 결과:\", roll_dice(1000))"
   ]
  },
  {
   "cell_type": "markdown",
   "metadata": {},
   "source": [
    "# ch03 numpy (3)"
   ]
  },
  {
   "cell_type": "markdown",
   "metadata": {},
   "source": [
    "np.argmax를 이용하여 다음 배열의 최대값을 출력하라.   \n",
    "a = [2,3,5,8,1,0]"
   ]
  },
  {
   "cell_type": "code",
   "execution_count": 25,
   "metadata": {},
   "outputs": [],
   "source": [
    "import numpy as np"
   ]
  },
  {
   "cell_type": "code",
   "execution_count": 26,
   "metadata": {},
   "outputs": [
    {
     "data": {
      "text/plain": [
       "np.int64(8)"
      ]
     },
     "execution_count": 26,
     "metadata": {},
     "output_type": "execute_result"
    }
   ],
   "source": [
    "a = np.array([2,3,5,8,1,0], int)\n",
    "max_index = np.argmax(a)\n",
    "a[max_index]"
   ]
  }
 ],
 "metadata": {
  "kernelspec": {
   "display_name": "datascience",
   "language": "python",
   "name": "python3"
  },
  "language_info": {
   "codemirror_mode": {
    "name": "ipython",
    "version": 3
   },
   "file_extension": ".py",
   "mimetype": "text/x-python",
   "name": "python",
   "nbconvert_exporter": "python",
   "pygments_lexer": "ipython3",
   "version": "3.9.21"
  }
 },
 "nbformat": 4,
 "nbformat_minor": 2
}
